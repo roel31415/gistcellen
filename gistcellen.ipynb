{
 "cells": [
  {
   "cell_type": "markdown",
   "id": "256e25cb-3476-427d-a14d-bef77d8a9f20",
   "metadata": {},
   "source": [
    "# Automatisch tellen van gistcellen\n",
    "\n",
    "## Inleiding\n",
    "In dit experiment gaan we de gistcellen detecteren en tellen in het microscopiebeeld dat jullie in het labo hebben bekeken en gefotografeerd. Hiervoor gebruiken we enkele standaard technieken uit de beeldverwerking. Doel is dat jullie deze begrijpen en kunnen toepassen op een soortgelijk beeld.\n",
    "\n",
    "## Technische achtergrond (the gory details)\n",
    "Wat jullie hier zien is een *jupyter notebook*, dat is een mengvorm tussen tekst, code en resultaten. Dit wordt zeer vaak gebruiks door data scientists tegenwoordig, omdat ze op deze manier interactief code kunnen aanpassen, hun resultaten zien en tegelijk een soort logboek bijhouden van hun experimenten.\n",
    "\n",
    "De programmeertaam die we hierin gebruiken is *Python*. We veronderstellen op dit moment nog niet dat jullie Python kennen (dat komt nog wel), daarom hebben we alle code al voor jullie uitgeschreven. Zoals gezegd is alle code op deze pagina echte python code die live kan worden uitgevoerd. Bedoeling is dat jullie experimenteren met een aantal parameters, hun waarde veranderen en zien wat het effect daarvan is. Druk na elke wijziging op de 'play' knop bovenaan, of gebruik Shift-Enter.\n",
    "\n",
    "Tenslotte: de bibliotheek die we gebruiken is scikit-image, een vaak gebruike; open-source bibliotheek met uitegreide functies voor digitale beeldverwerking.\n",
    "\n",
    "Aan de slag!"
   ]
  },
  {
   "cell_type": "code",
   "execution_count": null,
   "id": "234d4f0d-0d44-41ce-b064-3887f67bf088",
   "metadata": {},
   "outputs": [],
   "source": [
    "# code block to initialise basic libraries: skimage, numpy and matplotlib\n",
    "# -----------------------------------------------------------------------\n",
    "import matplotlib.pyplot as plt\n",
    "import matplotlib\n",
    "# for creating a responsive plot\n",
    "%matplotlib widget\n",
    "import numpy as np\n",
    "\n",
    "from skimage import data"
   ]
  },
  {
   "cell_type": "markdown",
   "id": "f474952a-8321-441a-9f44-c4a0bfafc3cb",
   "metadata": {},
   "source": [
    "## Microscopiebeeld\n",
    "We laden een microscopiebeeld in dat jullie in het microscopielabo hebben onderzocht en laten het zien. Dit beeld is opgeslagen in Google Drive en voor iedereen toegangkelijk via het ingewikkeld ID dat hieronder staat. Een ander beeld heeft een ander ID. Als je zelf een beeld wil uitproberen, deel het dan via Google Drive, kopieer het ID en vul het hier in.\n",
    "\n",
    "Het is een goede gewoonte om altijd je data te inspecteren voor je verder gaat, dat gaan we ook eerst doen."
   ]
  },
  {
   "cell_type": "code",
   "execution_count": null,
   "id": "d7988f8e-91e2-4ce0-af25-62b0e444da75",
   "metadata": {},
   "outputs": [],
   "source": [
    "# code block to load and display images\n",
    "# -------------------------------------\n",
    "import imageio.v2 as iio\n",
    "\n",
    "# load image stored in google drive and shared with everyone\n",
    "dataID=\"1TwkzfaiCjqnGd8nCzjsVvWOPHLl5jxcG\"\n",
    "url=\"https://drive.google.com/uc?export=download&id=\"+dataID\n",
    "    \n",
    "# load image (taken from microscopy lab) and convert to greyvalues\n",
    "name = 'gistcellen'\n",
    "color_image = iio.imread(url)\n",
    "#color_image = iio.imread(\"gistcellen_uit_microscopie_labo.jpg\")\n",
    "image = np.mean(color_image, axis=2)\n",
    "\n",
    "# display images (original in color and in greyvalues)\n",
    "print('image has size ' + str(image.shape) + ' and looks like this:')\n",
    "f = plt.figure()\n",
    "f.add_subplot(1,2, 1)\n",
    "plt.imshow(color_image)\n",
    "f.add_subplot(1,2, 2)\n",
    "plt.imshow(image, cmap=plt.cm.gray)\n",
    "plt.title(name)\n",
    "plt.show()"
   ]
  },
  {
   "cell_type": "markdown",
   "id": "512939e9-4a2e-4934-99c5-d7870c7dc7f1",
   "metadata": {},
   "source": [
    "In dit geval gaat het over een kleurenbeeld dat we hebben omgezet in een grijswaardenbeeld. Je kan de afmeting  zien boven het beeld. Elke pixelwaarde heeft een bereik van 0 tot 255 (8 bits of 1 byte), dat kan je interaktief onderzoeken door de muiscursor over het beeld te bewegen. In het kleine menu linksboven het beeld zie je ook een vierkant ikoontje dat je kan gebruiken om in te zoomen op een deel van het beeld. Dat kan je helpen om details beter te zien.\n",
    "\n",
    "De cellen in dit beeld worden weergegeven door heldere cirkel/ellipsvormige objecten op een donkere achtergrond. Om beter te begrijpen welke grijswaarden er voorkomen in het beeld kan je interactief inzoomen."
   ]
  },
  {
   "cell_type": "markdown",
   "id": "9465a856-79f3-46cd-8c7e-90c9b794df22",
   "metadata": {},
   "source": [
    "## Inzoomen op een enkele gistcel\n",
    "We gaan nu inzoomen op 1 gistcel. De coordinaten daarvan kan je een beetje inschatten aan de hand van het interaktief zoom tooltje hierboven. Coordinaten worden weergegeven als (rij, kolom). Een deel van een beeld beschrijf je als image (rijBegin:rijEinde, kolomBegin:kolomEinde).\n",
    "\n",
    "Een andere manier om naar een grijswaardenbeeld te kijken is om het te beschouwen als een landschap waarin de grijswaarde de hoogte voorstelt. Dat doen we als volgt."
   ]
  },
  {
   "cell_type": "code",
   "execution_count": null,
   "id": "3a0670fc-061a-4160-bd55-4c3dcda94e67",
   "metadata": {},
   "outputs": [],
   "source": [
    "# code block show as landscape\n",
    "# ------------------------------\n",
    "from matplotlib import cm\n",
    "\n",
    "# cut out part of the image containing 1 cell\n",
    "cell = image[1770:1830, 1100:1170]\n",
    "\n",
    "f2 = plt.figure()\n",
    "\n",
    "# show greyvalue image of cell left\n",
    "f2.add_subplot(1,2, 1)\n",
    "plt.imshow(cell, cmap=plt.cm.gray)\n",
    "\n",
    "# and landscape image of the same cell right\n",
    "ax = f2.add_subplot(1,2, 2, projection='3d')\n",
    "\n",
    "m, n=cell.shape\n",
    "X, Y = np.meshgrid(np.arange(n), np.arange(m))\n",
    "\n",
    "ax.plot_surface(X, Y, cell, cmap=cm.viridis, antialiased=False)\n",
    "ax.axis(\"off\")\n",
    "ax.set_facecolor('black')\n",
    "plt.title(\"een gistcel\")\n",
    "plt.show()"
   ]
  },
  {
   "attachments": {},
   "cell_type": "markdown",
   "id": "4c4ec598-61da-44db-951d-21d77412adb2",
   "metadata": {},
   "source": [
    "## Detectie van gistcellen door hun typisch voorkomen\n",
    "Wat opvalt aan deze gistcellen is dat ze een heel specifiek uiterlijk hebben, een helder centrum omgeven door een dondere rand. Zowel het centrum als de rand tekenen scherp af ten opzichte van de middengrijze achtergrond.\n",
    "\n",
    "*Wat zijn typische grijswaarden van een celkern, de celrand, en de achtergrond?*\n",
    "\n",
    "Schrijf je antwoord hier op: celkern: *waarde*, celrand: *waarde*, achtergrond: *waarde*\n",
    "\n",
    "*Kies eens een andere gistcel uit het beeld (pas hiervoor de coordinaten aan) en onderzoek of die cel er ook zo uitziet.*"
   ]
  },
  {
   "cell_type": "markdown",
   "id": "f7a01a4d-3ce8-4806-9794-e01486ce5e84",
   "metadata": {},
   "source": [
    "# Template matching voor gistcellen\n",
    "We gaan proberen of we alle cellen kunnen detecteren door ze te vergelijken met de afbeelding van een enkele cel. Die techniek noemen we *template matching*. We gebruiken het beeld van de enkele cel (opgeslagen in het beeld met naam 'cell') als een sjabloon of template waarmee we op zoek gaan naar die plaatsen in het microscopiebeeld (met naam 'image') die erop lijken.\n",
    "\n",
    "Daartoe berekenen we de correlatie tussen elke positie in het beeld 'image' met het beeld van de ene cel 'cell'. Hoe dat precies gebeurt is niet zo relevant, wel belangrijk is het om te weten dat de correlatie een waarde 1 heeft bij een perfecte match (als de omgeving in 'image' perfect overeenkomt met het template 'cell'), -1 bij een perfect tegengestelde match waarbij de grijswaarden elkaars tegengestelde zijn, en tussenliggende waarden voor andere posities.\n",
    "\n",
    "*Verwachten jullie dat de waarde 1 voorkomt in het beeld?*"
   ]
  },
  {
   "cell_type": "code",
   "execution_count": null,
   "id": "125ca471-59d4-43c2-a4bd-1e62abb148ee",
   "metadata": {},
   "outputs": [],
   "source": [
    "from skimage.feature import match_template\n",
    "\n",
    "# calculate template matching from 'cell' to entire image\n",
    "result = match_template(image, cell)\n",
    "\n",
    "f3 = plt.figure()\n",
    "f3.add_subplot(1,2, 1)\n",
    "plt.imshow(image, cmap=plt.cm.gray)\n",
    "f3.add_subplot(1,2, 2)\n",
    "plt.imshow(result, cmap=plt.cm.gray)\n",
    "plt.title(name)\n",
    "plt.show()"
   ]
  },
  {
   "cell_type": "markdown",
   "id": "8a1617d8-36dc-4366-ac37-a5b80eadc4e4",
   "metadata": {},
   "source": [
    "Onderzoek de waarden in het gefilterde beeld rechts, waarop de template matching is toegepast. Vergelijk de plaatsen met gistcellen in het beeld links met de waarden in het beeld rechts. Welke waarde hebben de centra van de gistcellen in het gefilterde beeld rechts typisch? Kunnen we een waarde vinden waarboven we de gistcellen kunnen detecteren?"
   ]
  },
  {
   "cell_type": "code",
   "execution_count": null,
   "id": "730b0411-99d5-4c8e-b25e-fdc31a57aab7",
   "metadata": {},
   "outputs": [],
   "source": [
    "# code block to show thresholded image\n",
    "# ------------------------------------\n",
    "threshold_value = 0.5\n",
    "\n",
    "thresholded_result  = result > threshold_value\n",
    "\n",
    "# show original image, filtered image and thresholded result side-by-side\n",
    "f3 = plt.figure()\n",
    "f3.add_subplot(1,3, 1)\n",
    "plt.imshow(image, cmap=plt.cm.gray)\n",
    "plt.title('original image')\n",
    "f3.add_subplot(1,3, 2)\n",
    "plt.imshow(result, cmap=plt.cm.gray)\n",
    "plt.title('filtered image')\n",
    "f3.add_subplot(1,3, 3)\n",
    "plt.imshow(result > threshold_value, cmap=plt.cm.gray)\n",
    "plt.title('cells > ' + str(threshold_value))\n",
    "plt.show()"
   ]
  },
  {
   "cell_type": "code",
   "execution_count": null,
   "id": "c2428257-5c30-4651-8652-b18b9d871c0b",
   "metadata": {},
   "outputs": [],
   "source": [
    "# code block to label all the blobs and count them\n",
    "# ---------------------------------------------------------\n",
    "from skimage.measure import label, regionprops\n",
    "\n",
    "label_image = label(thresholded_result)\n",
    "plt.figure(figsize=(7,7))\n",
    "plt.imshow(label_image)\n",
    "plt.title('label_image')\n",
    "plt.show()\n",
    "print('Maximum label value is '+ str(label_image.max()))"
   ]
  }
 ],
 "metadata": {
  "kernelspec": {
   "display_name": "Python 3 (ipykernel)",
   "language": "python",
   "name": "python3"
  },
  "language_info": {
   "codemirror_mode": {
    "name": "ipython",
    "version": 3
   },
   "file_extension": ".py",
   "mimetype": "text/x-python",
   "name": "python",
   "nbconvert_exporter": "python",
   "pygments_lexer": "ipython3",
   "version": "3.12.0"
  }
 },
 "nbformat": 4,
 "nbformat_minor": 5
}
