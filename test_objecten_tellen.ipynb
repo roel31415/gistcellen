{
 "cells": [
  {
   "attachments": {},
   "cell_type": "markdown",
   "id": "256e25cb-3476-427d-a14d-bef77d8a9f20",
   "metadata": {},
   "source": [
    "# Automatisch tellen van objecten (zoals gistcellen, maar ook andere)\n",
    "\n",
    "## Inleiding\n",
    "In dit testje gaan jullie zelf aan de slag met de technieken die we hebben geleerd om gistcellen te detecteren. Jullie krijgen een beeld en moeten de verschillende stappen in de beeldverwerking doorlopen om het aantal objecten in het gegeven beeld te tellen. Jullie bijdrage is vooral het *bepalen van de parameters* en *inspectie/interpretatie van de (tussen)resultaten*. \n",
    "\n",
    "## Praktisch\n",
    "Let er nu ook op om telkens op 'play' of 'run' te klikken om een blok uit te voeren. Doe dit zeker ook als je een parameter hebt aangepast.\n",
    "\n",
    "## Resultaat\n",
    "Jullie werken volledig in dit document. In de tekst staan er vragen, die moeten jullie beantwoorden (in de tekst). Dubbelklik om een tekst in 'edit mode' te zetten zodat jullie de tekst kunnen aanvullen. Op andere plaatsen moet je parameters wijzigen in de code om een goed resultaat te verkrijgen.\n",
    "\n",
    "Vragen en opdrachten zien er als volgt uit:\n",
    "\n",
    "VRAAG: *Vul hier je naam in*\n",
    "\n",
    "OPDRACHT: *Haal 3x diep adem voordat je begint.*\n",
    "\n",
    "Als je klaar bent dan 1/ exporteer je het document in formaat HTML (via menu File -> Save and Export Notebook As -> HTML), 2/ je geeft het de correcte naam _jouw voornaam_jouw achternaam_test_objecten_tellen en 3/ je doet een upload in Google Classroom.\n",
    "\n",
    "Aan de slag!"
   ]
  },
  {
   "cell_type": "code",
   "execution_count": null,
   "id": "234d4f0d-0d44-41ce-b064-3887f67bf088",
   "metadata": {},
   "outputs": [],
   "source": [
    "# code block to initialise basic libraries: skimage, numpy and matplotlib\n",
    "# -----------------------------------------------------------------------\n",
    "import matplotlib.pyplot as plt\n",
    "import matplotlib\n",
    "# for creating a responsive plot\n",
    "%matplotlib widget\n",
    "import numpy as np\n",
    "\n",
    "from skimage import data"
   ]
  },
  {
   "cell_type": "markdown",
   "id": "f474952a-8321-441a-9f44-c4a0bfafc3cb",
   "metadata": {},
   "source": [
    "## Het Beeld\n",
    "We laden een beeld in dat jullie nu zelf gaan bewerken.\n",
    "\n",
    "Het is een goede gewoonte om altijd je data te inspecteren voor je verder gaat, dat gaan we ook eerst doen."
   ]
  },
  {
   "cell_type": "code",
   "execution_count": null,
   "id": "d7988f8e-91e2-4ce0-af25-62b0e444da75",
   "metadata": {},
   "outputs": [],
   "source": [
    "# code block to load and display images\n",
    "# -------------------------------------\n",
    "import imageio.v2 as iio\n",
    "\n",
    "# load image stored in google drive and shared with everyone\n",
    "\n",
    "#beeld met bomen\n",
    "dataID=\"1mpOIj6OkclsThRI9LlPb6UuT87QBFbo7\"\n",
    "\n",
    "# beeld met cellen\n",
    "#dataID=\"1TwkzfaiCjqnGd8nCzjsVvWOPHLl5jxcG\"\n",
    "url=\"https://drive.google.com/uc?export=download&id=\"+dataID\n",
    "    \n",
    "# load image (taken from microscopy lab) and convert to greyvalues\n",
    "name = 'luchtfoto met bomen'\n",
    "color_image = iio.imread(url)\n",
    "#color_image = iio.imread(\"gistcellen_uit_microscopie_labo.jpg\")\n",
    "image = np.mean(color_image, axis=2)\n",
    "\n",
    "# display images (original in color and in greyvalues)\n",
    "print('image has size ' + str(image.shape) + ' and looks like this:')\n",
    "f = plt.figure()\n",
    "f.add_subplot(1,2, 1)\n",
    "plt.imshow(color_image)\n",
    "f.add_subplot(1,2, 2)\n",
    "plt.imshow(image, cmap=plt.cm.gray)\n",
    "plt.title(name)\n",
    "plt.show()"
   ]
  },
  {
   "cell_type": "markdown",
   "id": "512939e9-4a2e-4934-99c5-d7870c7dc7f1",
   "metadata": {},
   "source": [
    "**(2 pt) VRAAG**: *Wat zijn de afmetingen van dit beeld? Wat is het bereik van de grijswaarden in het beeld?*\n",
    "\n",
    "De objecten in dit beeld zijn duidelijk herkenbaar. Om beter te begrijpen welke grijswaarden er voorkomen in het beeld kan je interactief inzoomen."
   ]
  },
  {
   "cell_type": "markdown",
   "id": "9465a856-79f3-46cd-8c7e-90c9b794df22",
   "metadata": {},
   "source": [
    "## Inzoomen op een enkel object\n",
    "Zoom nu in op 1 object. Schat de coordinaten in en vul die in de code hieronder in. \n",
    "\n",
    "De coordinaten kan je inschatten aan de hand van het interaktief zoom tooltje hierboven; plaats de cursor eerst linksboven en dan rechtsonder, en lees de x,y coordinaten af. Een deel van een beeld beschrijf je als image (rijBegin:rijEinde, kolomBegin:kolomEinde). Let erop dat de x in het tooltje het kolomnummer weergeeft en y het rijnummer.\r\n",
    "\n",
    "**(3 pt) OPDRACHT**\n",
    ": *Pas de coordinaten aan in de code hieronerd en controleer of je inderdaad 1 object hebt geselecteerd.*"
   ]
  },
  {
   "cell_type": "code",
   "execution_count": null,
   "id": "3a0670fc-061a-4160-bd55-4c3dcda94e67",
   "metadata": {},
   "outputs": [],
   "source": [
    "# code block show as landscape\n",
    "# ------------------------------\n",
    "from matplotlib import cm\n",
    "\n",
    "# cut out part of the image containing 1 cell\n",
    "cell = image[0:40, 0:40]\n",
    "\n",
    "f2 = plt.figure()\n",
    "\n",
    "# show greyvalue image of cell left\n",
    "f2.add_subplot(1,2, 1)\n",
    "plt.imshow(cell, cmap=plt.cm.gray)\n",
    "\n",
    "# and landscape image of the same cell right\n",
    "ax = f2.add_subplot(1,2, 2, projection='3d')\n",
    "\n",
    "m, n=cell.shape\n",
    "X, Y = np.meshgrid(np.arange(n), np.arange(m))\n",
    "\n",
    "ax.plot_surface(X, Y, cell, cmap=cm.viridis, antialiased=False)\n",
    "ax.axis(\"off\")\n",
    "ax.set_facecolor('black')\n",
    "plt.title(\"een object\")\n",
    "plt.show()"
   ]
  },
  {
   "cell_type": "markdown",
   "id": "f7a01a4d-3ce8-4806-9794-e01486ce5e84",
   "metadata": {},
   "source": [
    "# Template matching voor objecten\n",
    "We gaan proberen of we alle objecten kunnen detecteren door ze te vergelijken met de afbeelding van een enkel object. Die techniek noemen we *template matching*. We gebruiken het beeld van het enkele object (opgeslagen in het beeld met naam 'cell') als een sjabloon of template waarmee we op zoek gaan naar die plaatsen in het beeld (met naam 'image') die erop lijken.\n",
    "\n",
    "Daartoe berekenen we de correlatie tussen elke positie in het beeld 'image' met het beeld van de ene cel 'cell'. Hoe dat precies gebeurt is niet zo relevant, wel belangrijk is het om te weten dat de correlatie een waarde 1 heeft bij een perfecte match (als de omgeving in 'image' perfect overeenkomt met het template 'cell'), -1 bij een perfect tegengestelde match waarbij de grijswaarden elkaars tegengestelde zijn, en tussenliggende waarden voor andere posities.\n",
    "\n",
    "**(5 pt) VRAAG** *Waarom is dit object geschikt voor de techniek van template matching? Welke eigenschappen ervan kunnen jullie benoemen?*"
   ]
  },
  {
   "cell_type": "code",
   "execution_count": null,
   "id": "125ca471-59d4-43c2-a4bd-1e62abb148ee",
   "metadata": {},
   "outputs": [],
   "source": [
    "from skimage.feature import match_template\n",
    "\n",
    "# calculate template matching from 'cell' to entire image\n",
    "result = match_template(image, cell)\n",
    "\n",
    "f3 = plt.figure()\n",
    "f3.add_subplot(1,2, 1)\n",
    "plt.imshow(image, cmap=plt.cm.gray)\n",
    "f3.add_subplot(1,2, 2)\n",
    "plt.imshow(result, cmap=plt.cm.gray)\n",
    "plt.title(name)\n",
    "plt.show()"
   ]
  },
  {
   "cell_type": "markdown",
   "id": "8a1617d8-36dc-4366-ac37-a5b80eadc4e4",
   "metadata": {},
   "source": [
    "Onderzoek de waarden in het gefilterde beeld rechts, waarop de template matching is toegepast. Vergelijk de plaatsen met objecten in het beeld links met de waarden in het beeld rechts. \n",
    "\n",
    "**(5 pt) VRAAG en OPDRACHT**\n",
    "\n",
    "VRAAG *Welke waarde hebben de centra van de objecten in het gefilterde beeld rechts typisch?*\n",
    "\n",
    "OPDRACHT *Zoek een drempelwaarde waarboven we de objecten kunnen detecteren en vul die hieronder in bij threshold_value.*"
   ]
  },
  {
   "cell_type": "code",
   "execution_count": null,
   "id": "730b0411-99d5-4c8e-b25e-fdc31a57aab7",
   "metadata": {},
   "outputs": [],
   "source": [
    "# code block to show thresholded image\n",
    "# ------------------------------------\n",
    "threshold_value = 1\n",
    "\n",
    "thresholded_result  = result > threshold_value\n",
    "\n",
    "# show original image, filtered image and thresholded result side-by-side\n",
    "f3 = plt.figure()\n",
    "f3.add_subplot(1,3, 1)\n",
    "plt.imshow(image, cmap=plt.cm.gray)\n",
    "plt.title('original image')\n",
    "f3.add_subplot(1,3, 2)\n",
    "plt.imshow(result, cmap=plt.cm.gray)\n",
    "plt.title('filtered image')\n",
    "f3.add_subplot(1,3, 3)\n",
    "plt.imshow(result > threshold_value, cmap=plt.cm.gray)\n",
    "plt.title('cells > ' + str(threshold_value))\n",
    "plt.show()"
   ]
  },
  {
   "cell_type": "markdown",
   "id": "f3a742fd-f780-4e61-a599-5efa0caecc44",
   "metadata": {},
   "source": [
    "Nu gaan we het aantal gedetecteerde objecten tellen. Daarvoor gebruiken we de \"label\" functie en tellen het aantal labels. Het resultaat staat hieronder."
   ]
  },
  {
   "cell_type": "code",
   "execution_count": null,
   "id": "c2428257-5c30-4651-8652-b18b9d871c0b",
   "metadata": {},
   "outputs": [],
   "source": [
    "# code block to label all the blobs and count them\n",
    "# ---------------------------------------------------------\n",
    "from skimage.measure import label, regionprops\n",
    "\n",
    "label_image = label(thresholded_result)\n",
    "#plt.figure(figsize=(7,7))\n",
    "#plt.imshow(label_image)\n",
    "#plt.title('label_image')\n",
    "#plt.show()\n",
    "print('Maximum label value is '+ str(label_image.max()))"
   ]
  },
  {
   "cell_type": "markdown",
   "id": "59726da3-3167-448d-aaf3-db3396c40808",
   "metadata": {},
   "source": [
    "**(5pt) VRAAG en OPDRACHT**\n",
    "\n",
    "VRAAG *Hoeveel objecten hebben jullie gedetecteerd? Hoe weet je dat dat aantal klopt?*\n",
    "\n",
    "OPDRACHT *Noteer alle parameters in dit algoritme die een invloed hebben op het eindresultaat.*"
   ]
  }
 ],
 "metadata": {
  "kernelspec": {
   "display_name": "Python 3 (ipykernel)",
   "language": "python",
   "name": "python3"
  },
  "language_info": {
   "codemirror_mode": {
    "name": "ipython",
    "version": 3
   },
   "file_extension": ".py",
   "mimetype": "text/x-python",
   "name": "python",
   "nbconvert_exporter": "python",
   "pygments_lexer": "ipython3",
   "version": "3.12.0"
  }
 },
 "nbformat": 4,
 "nbformat_minor": 5
}
